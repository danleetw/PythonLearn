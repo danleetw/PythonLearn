{
 "cells": [
  {
   "cell_type": "code",
   "execution_count": 2,
   "metadata": {},
   "outputs": [
    {
     "name": "stdout",
     "output_type": "stream",
     "text": [
      "10\n",
      "Good Cacullator\n"
     ]
    }
   ],
   "source": [
    "class Caculator:\n",
    "        \n",
    "    def __init__(self):\n",
    "        self.price=0\n",
    "        self.name=\"Good Cacullator\"    \n",
    "    def add1(self,x):\n",
    "        self.price=self.price+x\n",
    "        #return(price)\n",
    "    def sub1(self,x):\n",
    "        self.price=self.price-x\n",
    "        #return(self.price)\n",
    "\n",
    "a=Caculator()\n",
    "a.add1(x=10)\n",
    "print(a.price)\n",
    "print(a.name)"
   ]
  },
  {
   "cell_type": "code",
   "execution_count": null,
   "metadata": {},
   "outputs": [],
   "source": [
    "\n",
    "\n"
   ]
  }
 ],
 "metadata": {
  "kernelspec": {
   "display_name": "Python 3",
   "language": "python",
   "name": "python3"
  },
  "language_info": {
   "codemirror_mode": {
    "name": "ipython",
    "version": 3
   },
   "file_extension": ".py",
   "mimetype": "text/x-python",
   "name": "python",
   "nbconvert_exporter": "python",
   "pygments_lexer": "ipython3",
   "version": "3.6.6"
  }
 },
 "nbformat": 4,
 "nbformat_minor": 2
}
