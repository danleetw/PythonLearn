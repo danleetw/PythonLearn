{
 "cells": [
  {
   "cell_type": "markdown",
   "metadata": {},
   "source": [
    "import configparser\n",
    "\n",
    "ConfigFileName='danlee.ini'\n",
    "config = configparser.ConfigParser()\n",
    "config.read(ConfigFileName)\n",
    "\n",
    "try:\n",
    "    config.add_section('general')\n",
    "except Exception as e:\n",
    "    print(e)\n",
    "config.set('general', 'string_val', 'world')\n",
    "config.write(open(ConfigFileName, \"w\"))\n"
   ]
  },
  {
   "cell_type": "markdown",
   "metadata": {},
   "source": [
    "cfg.read(ConfigFileName)"
   ]
  },
  {
   "cell_type": "markdown",
   "metadata": {},
   "source": [
    "import base64\n",
    "\n",
    "encoded = base64.b64encode(\"z\")"
   ]
  },
  {
   "cell_type": "markdown",
   "metadata": {},
   "source": [
    "cfg.set('ldapid','z0','True')"
   ]
  },
  {
   "cell_type": "markdown",
   "metadata": {},
   "source": [
    "cfg.sections()"
   ]
  },
  {
   "cell_type": "code",
   "execution_count": null,
   "metadata": {},
   "outputs": [],
   "source": [
    "UserName=('z000')\n",
    "UserPasswd=''"
   ]
  },
  {
   "cell_type": "code",
   "execution_count": null,
   "metadata": {},
   "outputs": [],
   "source": [
    "def EnterHit(event):\n",
    "    global UserPasswd\n",
    "    UserPasswd=entry_keyword.get()\n",
    "    print(UserPasswd)"
   ]
  },
  {
   "cell_type": "code",
   "execution_count": null,
   "metadata": {},
   "outputs": [],
   "source": [
    "import tkinter as tk\n",
    "window=tk.Tk()\n",
    "window.title(PgTitle)\n",
    "window.geometry(\"980x280\")\n",
    "entry_keyword=tk.Entry(window,width=20,font='48')\n",
    "entry_keyword.pack()\n",
    "window.bind('<Return>',EnterHit)\n",
    "entry_keyword.focus()\n",
    "window.mainloop()    "
   ]
  },
  {
   "cell_type": "code",
   "execution_count": null,
   "metadata": {},
   "outputs": [],
   "source": [
    "from selenium import webdriver \n",
    "#使用chrome的webdriver \n",
    "\n",
    "\n",
    "browser = webdriver.Chrome() \n",
    "#開啟google首頁 \n",
    "#browser.get('http://google.com/') \n",
    "browser.get('http://') \n",
    "#如果需要執行完自動關閉，就要加上下面這一行 \n",
    "\n",
    "browser.find_element_by_id('txtLogin').send_keys(UserName)\n",
    "\n",
    "#browser.close() \n",
    "browser\n"
   ]
  },
  {
   "cell_type": "code",
   "execution_count": null,
   "metadata": {},
   "outputs": [],
   "source": []
  }
 ],
 "metadata": {
  "kernelspec": {
   "display_name": "Python 3",
   "language": "python",
   "name": "python3"
  },
  "language_info": {
   "codemirror_mode": {
    "name": "ipython",
    "version": 3
   },
   "file_extension": ".py",
   "mimetype": "text/x-python",
   "name": "python",
   "nbconvert_exporter": "python",
   "pygments_lexer": "ipython3",
   "version": "3.7.0"
  }
 },
 "nbformat": 4,
 "nbformat_minor": 2
}
