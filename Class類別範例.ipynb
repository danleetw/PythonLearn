{
 "cells": [
  {
   "cell_type": "code",
   "execution_count": 30,
   "metadata": {},
   "outputs": [
    {
     "name": "stdout",
     "output_type": "stream",
     "text": [
      "Before Add,Price= 0\n",
      "Add  10\n",
      "After Add,Price= 10\n",
      "---\n",
      "Before Add,Price= 10\n",
      "Add  33\n",
      "After Add,Price= 43\n",
      "---\n",
      "Before Add,Price= 43\n",
      "Add  1000\n",
      "After Add,Price= 1043\n",
      "---\n"
     ]
    }
   ],
   "source": [
    "class Caculator:\n",
    "    #name='good Caculator'\n",
    "    #price=0\n",
    "    \n",
    "    def __init__(self,name='good Caculator',price=0):\n",
    "        self.name=name\n",
    "        self.price=price\n",
    "    def add(self,x):\n",
    "        print(\"Before Add,Price=\",self.price)\n",
    "        print(\"Add \",x)\n",
    "        self.price=self.price+x\n",
    "        print(\"After Add,Price=\",self.price)\n",
    "        print(\"---\")\n",
    "        #resu=self.price+x\n",
    "        #self.price=self.price+x\n",
    "        #print(resu)\n",
    "        #return(resu)\n",
    "        \n",
    "#Caculator.add(10)\n",
    "\n",
    "a=Caculator()\n",
    "#print(a.price)\n",
    "a.add(10)\n",
    "#print(a.price)\n",
    "a.add(33)\n",
    "a.add(1000)\n",
    "#print(a.price)\n",
    "#print(a.name)"
   ]
  },
  {
   "cell_type": "code",
   "execution_count": null,
   "metadata": {},
   "outputs": [],
   "source": []
  },
  {
   "cell_type": "code",
   "execution_count": null,
   "metadata": {},
   "outputs": [],
   "source": []
  }
 ],
 "metadata": {
  "kernelspec": {
   "display_name": "Python 3",
   "language": "python",
   "name": "python3"
  },
  "language_info": {
   "codemirror_mode": {
    "name": "ipython",
    "version": 3
   },
   "file_extension": ".py",
   "mimetype": "text/x-python",
   "name": "python",
   "nbconvert_exporter": "python",
   "pygments_lexer": "ipython3",
   "version": "3.6.6"
  }
 },
 "nbformat": 4,
 "nbformat_minor": 2
}
